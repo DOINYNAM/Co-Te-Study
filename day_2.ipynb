{
 "cells": [
  {
   "cell_type": "code",
   "execution_count": 2,
   "metadata": {},
   "outputs": [
    {
     "name": "stdout",
     "output_type": "stream",
     "text": [
      "0\n"
     ]
    }
   ],
   "source": [
    "# 10870 : 피보나치 수 5\n",
    "# n = 0 또는 1 이어도 li[n] 번째를 출력하므로 append의 영향 받지 않음\n",
    "\n",
    "n= int(input())\n",
    "li= [0, 1] # 이미 정해진 피보나치 수로 리스트 생성\n",
    "\n",
    "for i in range(n) :\n",
    "    li.append(li[i]+li[i+1]) # n의 값 만큼 반복하여 n까지의 피보나치 수열 리스트 생성\n",
    "    \n",
    "print(li[n]) # 피보나치 수열 리스트 중 n번째의 값 출력\n",
    "    "
   ]
  }
 ],
 "metadata": {
  "kernelspec": {
   "display_name": "Python 3.9.7 ('base')",
   "language": "python",
   "name": "python3"
  },
  "language_info": {
   "codemirror_mode": {
    "name": "ipython",
    "version": 3
   },
   "file_extension": ".py",
   "mimetype": "text/x-python",
   "name": "python",
   "nbconvert_exporter": "python",
   "pygments_lexer": "ipython3",
   "version": "3.9.7"
  },
  "orig_nbformat": 4,
  "vscode": {
   "interpreter": {
    "hash": "263930470851f494f0ed2879c35b57985588df20f9e529b86e97dd5eb9ddc466"
   }
  }
 },
 "nbformat": 4,
 "nbformat_minor": 2
}
